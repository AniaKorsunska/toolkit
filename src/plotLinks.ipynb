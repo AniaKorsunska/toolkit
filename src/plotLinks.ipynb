{
 "cells": [
  {
   "cell_type": "code",
   "execution_count": null,
   "metadata": {
    "collapsed": false
   },
   "outputs": [],
   "source": [
    "%matplotlib inline\n",
    "import numpy as np\n",
    "import pandas as pd\n",
    "import matplotlib.pyplot as plt\n",
    "%load_ext autoreload\n",
    "%autoreload 2\n",
    "\n",
    "import os.path"
   ]
  },
  {
   "cell_type": "code",
   "execution_count": null,
   "metadata": {
    "collapsed": false
   },
   "outputs": [],
   "source": [
    "from settings import *\n",
    "from utils import *"
   ]
  },
  {
   "cell_type": "markdown",
   "metadata": {
    "collapsed": true
   },
   "source": [
    "### Bar charts with the number of links per document."
   ]
  },
  {
   "cell_type": "code",
   "execution_count": null,
   "metadata": {
    "collapsed": false
   },
   "outputs": [],
   "source": [
    "def plotCountLinks(limitDocuments=10):\n",
    "    \n",
    "    documents = readFromDB(limitDocuments)\n",
    "    documents = extractLinks(documents)\n",
    "    \n",
    "    #Limit for the bar charts.\n",
    "    urlLimit = 10\n",
    "    \n",
    "    #Writes the number of urls per document.\n",
    "    #If the number is ≥ @urlLimit then instead\n",
    "    #of the real number, we write \"≥ @urlLimit\".\n",
    "    documents['urls'] = documents['urls'].apply(lambda x: len(x) if len(x)<urlLimit else \"≥\"+str(urlLimit))\n",
    "    \n",
    "    #Groups by the doc_type (twitter, web) and the number of urls.\n",
    "    count =  documents.groupby(['doc_type','urls']).size()\n",
    "    \n",
    "    #Reformats the dataframe in order to create the plots.\n",
    "    docs = {}\n",
    "    for doc_type in count.index.levels[0]:\n",
    "        urls=[]\n",
    "        for urlNum in count.index.levels[1]:\n",
    "            urls.append(count.get((doc_type, urlNum),0))\n",
    "        docs[doc_type]=urls\n",
    "\n",
    "    #Slices the dataframe into 3 views.\n",
    "    bothCount=pd.DataFrame(docs, index=count.index.levels[1])\n",
    "    twitterCount=bothCount['twitter'][lambda x: x!=0]\n",
    "    webCount=bothCount['web'][lambda x: x!=0]\n",
    " \n",
    "    #Creates the 3 plots.\n",
    "    plt.xticks(rotation=70)\n",
    "    ax = twitterCount.plot.bar(fontsize=12, color='b', title='Twitter')\n",
    "    ax.set_xticklabels(ax.get_xticklabels(), rotation=30)\n",
    "    ax.set_xlabel(\"# urls\")\n",
    "    ax.set_ylabel(\"# documents\")\n",
    "    plt.show()\n",
    "    \n",
    "    ax = webCount.plot.bar(fontsize=12, color='g', title='Web')\n",
    "    ax.set_xticklabels(ax.get_xticklabels(), rotation=30)\n",
    "    ax.set_xlabel(\"# urls\")\n",
    "    ax.set_ylabel(\"# documents\")\n",
    "    plt.show()\n",
    "    \n",
    "    ax = bothCount.plot.bar(fontsize=12, color='bg', title='All documents')\n",
    "    ax.set_xticklabels(ax.get_xticklabels(), rotation=30)\n",
    "    ax.set_xlabel(\"# urls\")\n",
    "    ax.set_ylabel(\"# documents\")\n",
    "    plt.show()\n",
    "\n",
    "plotCountLinks(1000)"
   ]
  },
  {
   "cell_type": "markdown",
   "metadata": {},
   "source": [
    "### Pie chars with the various URL errors."
   ]
  },
  {
   "cell_type": "code",
   "execution_count": null,
   "metadata": {
    "collapsed": false
   },
   "outputs": [],
   "source": [
    "def plotLinkErrors(limitDocuments=10):\n",
    "    \n",
    "    if (os.path.exists(cachedDataFrame)):\n",
    "        documents = pd.read_pickle(cachedDataFrame)\n",
    "    else:\n",
    "        documents = resolveURLs(limitDocuments)\n",
    "        documents.to_pickle(cachedDataFrame)\n",
    "    \n",
    "    documents = documents[['doc_type','error']]\n",
    "    \n",
    "    #Groups and counts by error and plots the respective pies.\n",
    "    twitter = documents[documents['doc_type']=='twitter']\n",
    "    numOfLinks = twitter.shape[0]\n",
    "    ax = twitter.groupby('error').agg('count').apply(lambda x: x/numOfLinks).plot.pie(y='doc_type', autopct='%1.1f%%', title='Link Errors on Twitter')\n",
    "    ax.set_ylabel('')\n",
    "    web = documents[documents['doc_type']=='web']\n",
    "    numOfLinks = web.shape[0]\n",
    "    ax = web.groupby('error').agg('count').apply(lambda x: x/numOfLinks).plot.pie(y='doc_type', autopct='%1.1f%%', title='Link Errors on Web')\n",
    "    ax.set_ylabel('')\n",
    "    numOfLinks = documents.shape[0]\n",
    "    ax = documents.groupby('error').agg('count').apply(lambda x: x/numOfLinks).plot.pie(y='doc_type', autopct='%1.1f%%', title='Link Errors on Both')\n",
    "    ax.set_ylabel('')\n",
    "    \n",
    "plotLinkErrors(5)"
   ]
  },
  {
   "cell_type": "markdown",
   "metadata": {},
   "source": [
    "### Sorts the domains of links by the number of occurrences."
   ]
  },
  {
   "cell_type": "code",
   "execution_count": null,
   "metadata": {
    "collapsed": false
   },
   "outputs": [],
   "source": [
    "def printDomains(limitDocuments=10):\n",
    "    if (os.path.exists(cachedDataFrame)):\n",
    "        documents = pd.read_pickle(cachedDataFrame)\n",
    "    else:\n",
    "        documents = readFromDB(limitDocuments)\n",
    "        documents = extractLinks(documents)\n",
    "        documents = flattenLinks(documents)\n",
    "        documents = resolveURLs(documents)\n",
    "        documents.to_pickle(cachedDataFrame)\n",
    "\n",
    "    documents = documents[documents['error']=='NoError']\n",
    "    documents = documents[['id','resolvedURL','doc_type']]\n",
    "\n",
    "    documents['resolvedURL'] = documents['resolvedURL'].apply(lambda x: urlparse(x).hostname)\n",
    "\n",
    "    print('Twitter')\n",
    "    print(documents[documents['doc_type']=='twitter'][['id','resolvedURL']].groupby('resolvedURL').agg('count').sort_values('id', ascending=False))\n",
    "    print('Web')\n",
    "    print(documents[documents['doc_type']=='web'][['id','resolvedURL']].groupby('resolvedURL').agg('count').sort_values('id', ascending=False))\n",
    "    print('Both')\n",
    "    print(documents[['id','resolvedURL']].groupby('resolvedURL').agg('count').sort_values('id', ascending=False))\n",
    "printDomains(50)"
   ]
  },
  {
   "cell_type": "code",
   "execution_count": null,
   "metadata": {
    "collapsed": true
   },
   "outputs": [],
   "source": []
  }
 ],
 "metadata": {
  "anaconda-cloud": {},
  "kernelspec": {
   "display_name": "Python [Root]",
   "language": "python",
   "name": "Python [Root]"
  },
  "language_info": {
   "codemirror_mode": {
    "name": "ipython",
    "version": 3
   },
   "file_extension": ".py",
   "mimetype": "text/x-python",
   "name": "python",
   "nbconvert_exporter": "python",
   "pygments_lexer": "ipython3",
   "version": "3.5.2"
  }
 },
 "nbformat": 4,
 "nbformat_minor": 0
}
