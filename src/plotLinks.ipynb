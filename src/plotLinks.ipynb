{
 "cells": [
  {
   "cell_type": "code",
   "execution_count": 1,
   "metadata": {
    "collapsed": true
   },
   "outputs": [],
   "source": [
    "%matplotlib inline\n",
    "import numpy as np\n",
    "import pandas as pd\n",
    "import matplotlib.pyplot as plt\n",
    "%load_ext autoreload\n",
    "%autoreload 2"
   ]
  },
  {
   "cell_type": "code",
   "execution_count": 2,
   "metadata": {
    "collapsed": false
   },
   "outputs": [],
   "source": [
    "from settings import *"
   ]
  },
  {
   "cell_type": "markdown",
   "metadata": {
    "collapsed": true
   },
   "source": [
    "## Read Data"
   ]
  },
  {
   "cell_type": "code",
   "execution_count": null,
   "metadata": {
    "collapsed": false
   },
   "outputs": [],
   "source": [
    "con, meta = connectToDB('smeros', '', 'sciArticles')\n",
    "\n",
    "sql = 'select body, retweet_count, publishing_date \\\n",
    "from document \\\n",
    "where doc_type = \\'twitter\\''\n",
    "\n",
    "tweets = pd.read_sql(sql, con, index_col=None, coerce_float=True, params=None, parse_dates=None, columns=None, chunksize=None)\n"
   ]
  },
  {
   "cell_type": "code",
   "execution_count": null,
   "metadata": {
    "collapsed": false
   },
   "outputs": [
    {
     "name": "stdout",
     "output_type": "stream",
     "text": [
      "http://t.co/yzUy11usmg\n",
      "<urlopen error [Errno 8] nodename nor servname provided, or not known>\n",
      "not resolved: http://t.co/yzUy11usmg\n",
      "http://t.co/l8n3CniaB3\n",
      "HTTP Error 403: Forbidden\n",
      "not resolved: http://t.co/l8n3CniaB3\n",
      "http://post.ly/Om3A\n",
      "not resolved: http://post.ly/Om3A\n",
      "http://t.co/cEVKs7ewVN\n",
      "resolved: http://www.herbs-info.com/blog/new-research-suggests-sugar-causes-cancer/\n",
      "200\n",
      "http://ow.ly/19kQS2\n",
      "not resolved: http://ow.ly/19kQS2\n",
      "http://ht.ly/2QbqA\n",
      "not resolved: http://ht.ly/2QbqA\n",
      "http://shar.es/aFMVW\n",
      "resolved: http://www.naturalnews.com/027931_GMO_crops_organ_damage.html\n",
      "200\n",
      "http://sbne.ws/r/4Xhe\n",
      "resolved: http://www.smartbrief.com/s/2010/06/study-says-salt-lovers-might-taste-more-intensely\n",
      "200\n",
      "http://bit.ly/7nWQVj\n",
      "not resolved: http://bit.ly/7nWQVj\n",
      "http://bit.ly/7nWQVj\n",
      "not resolved: http://bit.ly/7nWQVj\n",
      "http://bit.ly/d6qMKl\n",
      "not resolved: http://bit.ly/d6qMKl\n",
      "http://t.co/Gjz0PkSjmm\n",
      "<urlopen error timed out>\n",
      "not resolved: http://t.co/Gjz0PkSjmm\n",
      "http://t.co/cLPitxWizk\n",
      "resolved: http://linkis.com/healthfreedoms.org/jqPGa\n",
      "200\n",
      "http://t.co/i31rMPGgwN\n",
      "<urlopen error timed out>\n",
      "not resolved: http://t.co/i31rMPGgwN\n",
      "http://t.co/irlk00n7tX\n"
     ]
    }
   ],
   "source": [
    "def extractURLs(tweets):\n",
    "    import re\n",
    "    import requests\n",
    "    import math\n",
    "\n",
    "    urlRegex = 'http[s]?://(?:[a-zA-Z]|[0-9]|[$-_@.&+]|[!*\\(\\),]|(?:%[0-9a-fA-F][0-9a-fA-F]))+'\n",
    "    urls = pd.Series(tweets['body'].apply(lambda x: re.findall(urlRegex, x)), name=\"urls\")\n",
    "    \n",
    "    def resolveURLs(urls):\n",
    "        resolvedURLs = []\n",
    "        for url in urls:\n",
    "            print(url)\n",
    "            try:\n",
    "                from urllib.request import urlopen\n",
    "                from urllib.parse import urlparse\n",
    "                resolvedURL = urlopen(url,timeout=10).geturl()\n",
    "                #resolvedURL = requests.head(url, allow_redirects=True, timeout=10)\n",
    "                \n",
    "                if(urlparse(url).netloc.endswith('.ly')):\n",
    "                    print('not resolved: ' + url)\n",
    "                    continue\n",
    "                \n",
    "                print ('resolved: ' + resolvedURL)\n",
    "                print(urlopen(url).getcode())\n",
    "                resolvedURLs.append(resolvedURL)\n",
    "            except Exception as e:\n",
    "                print (e)\n",
    "                print('not resolved: ' + url)\n",
    "                resolvedURLs.append('DeadLink')\n",
    "        #return [session.head(url, allow_redirects=True).url for url in urls]\n",
    "    \n",
    "    urls = urls.apply(lambda x: resolveURLs(x))\n",
    "    \n",
    "    print(urls.shape)\n",
    "    \n",
    "    #Checks resolvability of URLs\n",
    "    #resolvableURLs = urls.apply(pd.Series).applymap(lambda x: None if pd.isnull(x) else requests.get(x, verify=False).status_code==200)\n",
    "    #resolvableURLs = pd.Series(np.logical_or.reduce(resolvableURLs, axis=1), name=\"hasResolvableURLs\")\n",
    "    #print (resolvableURLs.shape)\n",
    "\n",
    "    tweets = pd.concat([tweets, urls], axis=1)\n",
    "\n",
    "    return tweets\n",
    "\n",
    "tweets1 = extractURLs(tweets)"
   ]
  },
  {
   "cell_type": "code",
   "execution_count": null,
   "metadata": {
    "collapsed": false
   },
   "outputs": [],
   "source": [
    "#tweets1 = extractURLs(tweets)\n",
    "\n",
    "print (tweets1['urls'][0:10])\n",
    "\n",
    "#conn.setopt(pycurl.URL, \"http://t.co/yzUy11usmg\")\n",
    "#conn.setopt(pycurl.URL, \"http://t.co/cEVKs7ewVN\")"
   ]
  },
  {
   "cell_type": "code",
   "execution_count": null,
   "metadata": {
    "collapsed": false
   },
   "outputs": [],
   "source": [
    "print (urls)"
   ]
  },
  {
   "cell_type": "code",
   "execution_count": null,
   "metadata": {
    "collapsed": false
   },
   "outputs": [],
   "source": []
  },
  {
   "cell_type": "code",
   "execution_count": null,
   "metadata": {
    "collapsed": true
   },
   "outputs": [],
   "source": []
  }
 ],
 "metadata": {
  "anaconda-cloud": {},
  "kernelspec": {
   "display_name": "Python [Root]",
   "language": "python",
   "name": "Python [Root]"
  },
  "language_info": {
   "codemirror_mode": {
    "name": "ipython",
    "version": 3
   },
   "file_extension": ".py",
   "mimetype": "text/x-python",
   "name": "python",
   "nbconvert_exporter": "python",
   "pygments_lexer": "ipython3",
   "version": "3.5.2"
  }
 },
 "nbformat": 4,
 "nbformat_minor": 0
}
