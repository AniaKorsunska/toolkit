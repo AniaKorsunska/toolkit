{
 "cells": [
  {
   "cell_type": "code",
   "execution_count": 1,
   "metadata": {
    "collapsed": false
   },
   "outputs": [],
   "source": [
    "%matplotlib inline\n",
    "import numpy as np\n",
    "import pandas as pd\n",
    "import matplotlib.pyplot as plt\n",
    "%load_ext autoreload\n",
    "%autoreload 2\n",
    "\n",
    "import re\n",
    "from urllib.request import urlopen\n",
    "from urllib.parse import urlparse\n",
    "from urllib.error import HTTPError, URLError\n",
    "from ssl import CertificateError\n",
    "from socket import timeout as SocketTimeoutError\n",
    "import sys"
   ]
  },
  {
   "cell_type": "code",
   "execution_count": 2,
   "metadata": {
    "collapsed": false
   },
   "outputs": [],
   "source": [
    "from settings import *"
   ]
  },
  {
   "cell_type": "markdown",
   "metadata": {
    "collapsed": true
   },
   "source": [
    "## Read Data"
   ]
  },
  {
   "cell_type": "code",
   "execution_count": 11,
   "metadata": {
    "collapsed": false
   },
   "outputs": [],
   "source": [
    "query = \"\"\"\n",
    "select *\n",
    "from \n",
    "(select id, body, doc_type\n",
    "from document\n",
    "where doc_type = 'web'\n",
    "limit 10) t1\n",
    "UNION\n",
    "(select id, body, doc_type\n",
    "from document\n",
    "where doc_type = 'twitter'\n",
    "limit 10)\n",
    "\"\"\"\n",
    "\n",
    "\n",
    "documents = queryDB(query, 'smeros', '', 'sciArticles')\n",
    "documents = documents.set_index('id')"
   ]
  },
  {
   "cell_type": "code",
   "execution_count": 12,
   "metadata": {
    "collapsed": false
   },
   "outputs": [
    {
     "data": {
      "text/html": [
       "<div>\n",
       "<table border=\"1\" class=\"dataframe\">\n",
       "  <thead>\n",
       "    <tr style=\"text-align: right;\">\n",
       "      <th></th>\n",
       "      <th>urls</th>\n",
       "      <th>doc_type</th>\n",
       "    </tr>\n",
       "    <tr>\n",
       "      <th>id</th>\n",
       "      <th></th>\n",
       "      <th></th>\n",
       "    </tr>\n",
       "  </thead>\n",
       "  <tbody>\n",
       "    <tr>\n",
       "      <th>8cdd06a6-472e-11e5-8e33-42010af074fc</th>\n",
       "      <td>[]</td>\n",
       "      <td>web</td>\n",
       "    </tr>\n",
       "    <tr>\n",
       "      <th>ff36bee6-530d-11e5-b5bc-42010af0793b</th>\n",
       "      <td>[http://t.co/jLpMnMaQWY]</td>\n",
       "      <td>twitter</td>\n",
       "    </tr>\n",
       "    <tr>\n",
       "      <th>cc0ab8f8-4640-11e5-b738-42010af074fc</th>\n",
       "      <td>[http://t.co/PZRT2aWryd]</td>\n",
       "      <td>twitter</td>\n",
       "    </tr>\n",
       "    <tr>\n",
       "      <th>e3d0ec44-4705-11e5-8dd2-42010af074fc</th>\n",
       "      <td>[]</td>\n",
       "      <td>web</td>\n",
       "    </tr>\n",
       "    <tr>\n",
       "      <th>10b4ff52-4747-11e5-a5b0-42010af074fc</th>\n",
       "      <td>[]</td>\n",
       "      <td>web</td>\n",
       "    </tr>\n",
       "    <tr>\n",
       "      <th>cc2259c0-4705-11e5-82cc-42010af074fc</th>\n",
       "      <td>[]</td>\n",
       "      <td>web</td>\n",
       "    </tr>\n",
       "    <tr>\n",
       "      <th>7229175a-472e-11e5-b647-42010af074fc</th>\n",
       "      <td>[]</td>\n",
       "      <td>web</td>\n",
       "    </tr>\n",
       "    <tr>\n",
       "      <th>c0385088-4705-11e5-b112-42010af074fc</th>\n",
       "      <td>[]</td>\n",
       "      <td>web</td>\n",
       "    </tr>\n",
       "    <tr>\n",
       "      <th>d9c40736-4656-11e5-8e33-42010af074fc</th>\n",
       "      <td>[http://bit.ly/9OvIjO]</td>\n",
       "      <td>twitter</td>\n",
       "    </tr>\n",
       "    <tr>\n",
       "      <th>d9c3ceba-4656-11e5-8e33-42010af074fc</th>\n",
       "      <td>[http://bit.ly/bRJn6h.]</td>\n",
       "      <td>twitter</td>\n",
       "    </tr>\n",
       "    <tr>\n",
       "      <th>df300a4e-4656-11e5-8e33-42010af074fc</th>\n",
       "      <td>[http://t.co/ytd74rP]</td>\n",
       "      <td>twitter</td>\n",
       "    </tr>\n",
       "    <tr>\n",
       "      <th>cff3baf8-472d-11e5-8bb6-42010af074fc</th>\n",
       "      <td>[]</td>\n",
       "      <td>web</td>\n",
       "    </tr>\n",
       "    <tr>\n",
       "      <th>7580ba3e-472e-11e5-8e33-42010af074fc</th>\n",
       "      <td>[]</td>\n",
       "      <td>web</td>\n",
       "    </tr>\n",
       "    <tr>\n",
       "      <th>c49c17e2-4640-11e5-b738-42010af074fc</th>\n",
       "      <td>[http://t.co/XSMIHcfGv4]</td>\n",
       "      <td>twitter</td>\n",
       "    </tr>\n",
       "    <tr>\n",
       "      <th>78c228d8-4a38-11e5-8389-42010af074fc</th>\n",
       "      <td>[http://t.co/R94ngZTjmn]</td>\n",
       "      <td>twitter</td>\n",
       "    </tr>\n",
       "    <tr>\n",
       "      <th>e95f4f5c-4656-11e5-8e33-42010af074fc</th>\n",
       "      <td>[http://bit.ly/bFv1mN]</td>\n",
       "      <td>twitter</td>\n",
       "    </tr>\n",
       "    <tr>\n",
       "      <th>d9c3bfd8-4656-11e5-8e33-42010af074fc</th>\n",
       "      <td>[http://bit.ly/9wIiYL]</td>\n",
       "      <td>twitter</td>\n",
       "    </tr>\n",
       "    <tr>\n",
       "      <th>745ff76e-472e-11e5-97b3-42010af074fc</th>\n",
       "      <td>[]</td>\n",
       "      <td>web</td>\n",
       "    </tr>\n",
       "    <tr>\n",
       "      <th>90ad6bd6-472e-11e5-b1cc-42010af074fc</th>\n",
       "      <td>[http://dotearth.blogs.nytimes.com/2012/09/20/...</td>\n",
       "      <td>web</td>\n",
       "    </tr>\n",
       "    <tr>\n",
       "      <th>db8f6e02-4656-11e5-8e33-42010af074fc</th>\n",
       "      <td>[http://t.co/JkJB6AEcFH]</td>\n",
       "      <td>twitter</td>\n",
       "    </tr>\n",
       "  </tbody>\n",
       "</table>\n",
       "</div>"
      ],
      "text/plain": [
       "                                                                                   urls doc_type\n",
       "id                                                                                              \n",
       "8cdd06a6-472e-11e5-8e33-42010af074fc                                                 []      web\n",
       "ff36bee6-530d-11e5-b5bc-42010af0793b                           [http://t.co/jLpMnMaQWY]  twitter\n",
       "cc0ab8f8-4640-11e5-b738-42010af074fc                           [http://t.co/PZRT2aWryd]  twitter\n",
       "e3d0ec44-4705-11e5-8dd2-42010af074fc                                                 []      web\n",
       "10b4ff52-4747-11e5-a5b0-42010af074fc                                                 []      web\n",
       "cc2259c0-4705-11e5-82cc-42010af074fc                                                 []      web\n",
       "7229175a-472e-11e5-b647-42010af074fc                                                 []      web\n",
       "c0385088-4705-11e5-b112-42010af074fc                                                 []      web\n",
       "d9c40736-4656-11e5-8e33-42010af074fc                             [http://bit.ly/9OvIjO]  twitter\n",
       "d9c3ceba-4656-11e5-8e33-42010af074fc                            [http://bit.ly/bRJn6h.]  twitter\n",
       "df300a4e-4656-11e5-8e33-42010af074fc                              [http://t.co/ytd74rP]  twitter\n",
       "cff3baf8-472d-11e5-8bb6-42010af074fc                                                 []      web\n",
       "7580ba3e-472e-11e5-8e33-42010af074fc                                                 []      web\n",
       "c49c17e2-4640-11e5-b738-42010af074fc                           [http://t.co/XSMIHcfGv4]  twitter\n",
       "78c228d8-4a38-11e5-8389-42010af074fc                           [http://t.co/R94ngZTjmn]  twitter\n",
       "e95f4f5c-4656-11e5-8e33-42010af074fc                             [http://bit.ly/bFv1mN]  twitter\n",
       "d9c3bfd8-4656-11e5-8e33-42010af074fc                             [http://bit.ly/9wIiYL]  twitter\n",
       "745ff76e-472e-11e5-97b3-42010af074fc                                                 []      web\n",
       "90ad6bd6-472e-11e5-b1cc-42010af074fc  [http://dotearth.blogs.nytimes.com/2012/09/20/...      web\n",
       "db8f6e02-4656-11e5-8e33-42010af074fc                           [http://t.co/JkJB6AEcFH]  twitter"
      ]
     },
     "execution_count": 12,
     "metadata": {},
     "output_type": "execute_result"
    }
   ],
   "source": [
    "def extractLinks(documents):\n",
    "\n",
    "    urlRegex = 'http[s]?://(?:[a-zA-Z]|[0-9]|[$-_@.&+]|[!*\\(\\),]|(?:%[0-9a-fA-F][0-9a-fA-F]))+'\n",
    "    \n",
    "    documents = documents.copy(deep=True)\n",
    "    documents['body'] = documents['body'].apply(lambda x: re.findall(urlRegex, x)).to_frame()\n",
    "    documents.rename(columns={'body': 'urls'}, inplace=True)\n",
    "    \n",
    "    return documents\n",
    "extractLinks(documents)"
   ]
  },
  {
   "cell_type": "code",
   "execution_count": 13,
   "metadata": {
    "collapsed": false,
    "scrolled": true
   },
   "outputs": [],
   "source": [
    "def countLinks(documents):\n",
    "    documents = documents.copy(deep=True)\n",
    "    documents = extractLinks(documents)\n",
    "    documents['urls'] = documents['urls'].apply(lambda x: len(x) if len(x)<linkLimit else \"≥\"+str(linkLimit))\n",
    "    return documents.groupby(['doc_type','urls']).size()\n",
    "\n",
    "def plotCountLinks(documents):\n",
    "    count = countLinks(documents)\n",
    "    docs = {}\n",
    "    for doc_type in count.index.levels[0]:\n",
    "        urls=[]\n",
    "        for urlNum in count.index.levels[1]:\n",
    "            urls.append(count.get((doc_type, urlNum),0))\n",
    "        docs[doc_type]=urls\n",
    "\n",
    "    \n",
    "    both=pd.DataFrame(docs, index=count.index.levels[1])\n",
    "    twitter=both['twitter'][lambda x: x!=0]\n",
    "    web=both['web'][lambda x: x!=0]\n",
    " \n",
    "    return both, twitter, web\n",
    "\n",
    "bothCount, twitterCount, webCount = plotCountLinks(documents)"
   ]
  },
  {
   "cell_type": "code",
   "execution_count": 14,
   "metadata": {
    "collapsed": false
   },
   "outputs": [
    {
     "data": {
      "text/plain": [
       "<matplotlib.text.Text at 0x115d11320>"
      ]
     },
     "execution_count": 14,
     "metadata": {},
     "output_type": "execute_result"
    },
    {
     "data": {
      "image/png": "[encoded data removed]",
      "text/plain": [
       "<matplotlib.figure.Figure at 0x115c82860>"
      ]
     },
     "metadata": {},
     "output_type": "display_data"
    }
   ],
   "source": [
    "plt.xticks(rotation=70)\n",
    "ax = twitterCount.plot.bar(fontsize=12, color='b', title='Twitter')\n",
    "ax.set_xticklabels(ax.get_xticklabels(), rotation=30)\n",
    "ax.set_xlabel(\"# urls\")\n",
    "ax.set_ylabel(\"# documents\")"
   ]
  },
  {
   "cell_type": "code",
   "execution_count": 15,
   "metadata": {
    "collapsed": false
   },
   "outputs": [
    {
     "data": {
      "text/plain": [
       "<matplotlib.text.Text at 0x115353e80>"
      ]
     },
     "execution_count": 15,
     "metadata": {},
     "output_type": "execute_result"
    },
    {
     "data": {
      "image/png": "[encoded data removed]",
      "text/plain": [
       "<matplotlib.figure.Figure at 0x115c95f98>"
      ]
     },
     "metadata": {},
     "output_type": "display_data"
    }
   ],
   "source": [
    "ax = webCount.plot.bar(fontsize=12, color='g', title='Web')\n",
    "ax.set_xticklabels(ax.get_xticklabels(), rotation=30)\n",
    "ax.set_xlabel(\"# urls\")\n",
    "ax.set_ylabel(\"# documents\")"
   ]
  },
  {
   "cell_type": "code",
   "execution_count": 16,
   "metadata": {
    "collapsed": false
   },
   "outputs": [
    {
     "data": {
      "text/plain": [
       "<matplotlib.text.Text at 0x115da1ef0>"
      ]
     },
     "execution_count": 16,
     "metadata": {},
     "output_type": "execute_result"
    },
    {
     "data": {
      "image/png": "[encoded data removed]",
      "text/plain": [
       "<matplotlib.figure.Figure at 0x115d99b00>"
      ]
     },
     "metadata": {},
     "output_type": "display_data"
    }
   ],
   "source": [
    "ax = bothCount.plot.bar(fontsize=12, color='bg', title='All documents')\n",
    "ax.set_xticklabels(ax.get_xticklabels(), rotation=30)\n",
    "ax.set_xlabel(\"# urls\")\n",
    "ax.set_ylabel(\"# documents\")"
   ]
  },
  {
   "cell_type": "code",
   "execution_count": 17,
   "metadata": {
    "collapsed": false
   },
   "outputs": [
    {
     "data": {
      "text/html": [
       "<div>\n",
       "<table border=\"1\" class=\"dataframe\">\n",
       "  <thead>\n",
       "    <tr style=\"text-align: right;\">\n",
       "      <th></th>\n",
       "      <th>id</th>\n",
       "      <th>url</th>\n",
       "      <th>doc_type</th>\n",
       "    </tr>\n",
       "  </thead>\n",
       "  <tbody>\n",
       "    <tr>\n",
       "      <th>0</th>\n",
       "      <td>ff36bee6-530d-11e5-b5bc-42010af0793b</td>\n",
       "      <td>http://t.co/jLpMnMaQWY</td>\n",
       "      <td>twitter</td>\n",
       "    </tr>\n",
       "    <tr>\n",
       "      <th>1</th>\n",
       "      <td>cc0ab8f8-4640-11e5-b738-42010af074fc</td>\n",
       "      <td>http://t.co/PZRT2aWryd</td>\n",
       "      <td>twitter</td>\n",
       "    </tr>\n",
       "    <tr>\n",
       "      <th>2</th>\n",
       "      <td>d9c40736-4656-11e5-8e33-42010af074fc</td>\n",
       "      <td>http://bit.ly/9OvIjO</td>\n",
       "      <td>twitter</td>\n",
       "    </tr>\n",
       "    <tr>\n",
       "      <th>3</th>\n",
       "      <td>d9c3ceba-4656-11e5-8e33-42010af074fc</td>\n",
       "      <td>http://bit.ly/bRJn6h.</td>\n",
       "      <td>twitter</td>\n",
       "    </tr>\n",
       "    <tr>\n",
       "      <th>4</th>\n",
       "      <td>df300a4e-4656-11e5-8e33-42010af074fc</td>\n",
       "      <td>http://t.co/ytd74rP</td>\n",
       "      <td>twitter</td>\n",
       "    </tr>\n",
       "    <tr>\n",
       "      <th>5</th>\n",
       "      <td>c49c17e2-4640-11e5-b738-42010af074fc</td>\n",
       "      <td>http://t.co/XSMIHcfGv4</td>\n",
       "      <td>twitter</td>\n",
       "    </tr>\n",
       "    <tr>\n",
       "      <th>6</th>\n",
       "      <td>78c228d8-4a38-11e5-8389-42010af074fc</td>\n",
       "      <td>http://t.co/R94ngZTjmn</td>\n",
       "      <td>twitter</td>\n",
       "    </tr>\n",
       "    <tr>\n",
       "      <th>7</th>\n",
       "      <td>e95f4f5c-4656-11e5-8e33-42010af074fc</td>\n",
       "      <td>http://bit.ly/bFv1mN</td>\n",
       "      <td>twitter</td>\n",
       "    </tr>\n",
       "    <tr>\n",
       "      <th>8</th>\n",
       "      <td>d9c3bfd8-4656-11e5-8e33-42010af074fc</td>\n",
       "      <td>http://bit.ly/9wIiYL</td>\n",
       "      <td>twitter</td>\n",
       "    </tr>\n",
       "    <tr>\n",
       "      <th>9</th>\n",
       "      <td>90ad6bd6-472e-11e5-b1cc-42010af074fc</td>\n",
       "      <td>http://dotearth.blogs.nytimes.com/2012/09/20/t...</td>\n",
       "      <td>web</td>\n",
       "    </tr>\n",
       "    <tr>\n",
       "      <th>10</th>\n",
       "      <td>db8f6e02-4656-11e5-8e33-42010af074fc</td>\n",
       "      <td>http://t.co/JkJB6AEcFH</td>\n",
       "      <td>twitter</td>\n",
       "    </tr>\n",
       "  </tbody>\n",
       "</table>\n",
       "</div>"
      ],
      "text/plain": [
       "                                      id                                                url doc_type\n",
       "0   ff36bee6-530d-11e5-b5bc-42010af0793b                             http://t.co/jLpMnMaQWY  twitter\n",
       "1   cc0ab8f8-4640-11e5-b738-42010af074fc                             http://t.co/PZRT2aWryd  twitter\n",
       "2   d9c40736-4656-11e5-8e33-42010af074fc                               http://bit.ly/9OvIjO  twitter\n",
       "3   d9c3ceba-4656-11e5-8e33-42010af074fc                              http://bit.ly/bRJn6h.  twitter\n",
       "4   df300a4e-4656-11e5-8e33-42010af074fc                                http://t.co/ytd74rP  twitter\n",
       "5   c49c17e2-4640-11e5-b738-42010af074fc                             http://t.co/XSMIHcfGv4  twitter\n",
       "6   78c228d8-4a38-11e5-8389-42010af074fc                             http://t.co/R94ngZTjmn  twitter\n",
       "7   e95f4f5c-4656-11e5-8e33-42010af074fc                               http://bit.ly/bFv1mN  twitter\n",
       "8   d9c3bfd8-4656-11e5-8e33-42010af074fc                               http://bit.ly/9wIiYL  twitter\n",
       "9   90ad6bd6-472e-11e5-b1cc-42010af074fc  http://dotearth.blogs.nytimes.com/2012/09/20/t...      web\n",
       "10  db8f6e02-4656-11e5-8e33-42010af074fc                             http://t.co/JkJB6AEcFH  twitter"
      ]
     },
     "execution_count": 17,
     "metadata": {},
     "output_type": "execute_result"
    }
   ],
   "source": [
    "def flattenLinks(documents):\n",
    "    documents = documents.copy(deep=True)\n",
    "    documents = extractLinks(documents)\n",
    "    \n",
    "    documents = pd.DataFrame([(row[0], link, row[2]) for row in documents.itertuples() for link in row[1]], columns=['id', 'url', 'doc_type'])\n",
    "    \n",
    "    if (removeDuplicateLinks):\n",
    "        documents = documents.drop_duplicates()\n",
    "        \n",
    "    return documents\n",
    "    \n",
    "flattenLinks(documents)"
   ]
  },
  {
   "cell_type": "code",
   "execution_count": 65,
   "metadata": {
    "collapsed": false
   },
   "outputs": [
    {
     "data": {
      "text/html": [
       "<div>\n",
       "<table border=\"1\" class=\"dataframe\">\n",
       "  <thead>\n",
       "    <tr style=\"text-align: right;\">\n",
       "      <th></th>\n",
       "      <th>id</th>\n",
       "      <th>url</th>\n",
       "      <th>doc_type</th>\n",
       "      <th>error</th>\n",
       "      <th>errorDesc</th>\n",
       "      <th>resolvedURL</th>\n",
       "    </tr>\n",
       "  </thead>\n",
       "  <tbody>\n",
       "    <tr>\n",
       "      <th>0</th>\n",
       "      <td>ff36bee6-530d-11e5-b5bc-42010af0793b</td>\n",
       "      <td>http://t.co/jLpMnMaQWY</td>\n",
       "      <td>twitter</td>\n",
       "      <td>NoError</td>\n",
       "      <td></td>\n",
       "      <td>http://www.greenmedinfo.com/blog/research-reve...</td>\n",
       "    </tr>\n",
       "    <tr>\n",
       "      <th>1</th>\n",
       "      <td>cc0ab8f8-4640-11e5-b738-42010af074fc</td>\n",
       "      <td>http://t.co/PZRT2aWryd</td>\n",
       "      <td>twitter</td>\n",
       "      <td>HTTPError</td>\n",
       "      <td>404</td>\n",
       "      <td>http://t.co/PZRT2aWryd</td>\n",
       "    </tr>\n",
       "    <tr>\n",
       "      <th>2</th>\n",
       "      <td>d9c40736-4656-11e5-8e33-42010af074fc</td>\n",
       "      <td>http://bit.ly/9OvIjO</td>\n",
       "      <td>twitter</td>\n",
       "      <td>NoError</td>\n",
       "      <td></td>\n",
       "      <td>https://www.sciencedaily.com/releases/2010/06/...</td>\n",
       "    </tr>\n",
       "    <tr>\n",
       "      <th>3</th>\n",
       "      <td>d9c3ceba-4656-11e5-8e33-42010af074fc</td>\n",
       "      <td>http://bit.ly/bRJn6h.</td>\n",
       "      <td>twitter</td>\n",
       "      <td>NoError</td>\n",
       "      <td></td>\n",
       "      <td>http://www.dairyreporter.com/R-D/Probiotics-ma...</td>\n",
       "    </tr>\n",
       "    <tr>\n",
       "      <th>4</th>\n",
       "      <td>df300a4e-4656-11e5-8e33-42010af074fc</td>\n",
       "      <td>http://t.co/ytd74rP</td>\n",
       "      <td>twitter</td>\n",
       "      <td>NoError</td>\n",
       "      <td></td>\n",
       "      <td>http://www.beveragedaily.com/Markets/New-Kraft...</td>\n",
       "    </tr>\n",
       "    <tr>\n",
       "      <th>5</th>\n",
       "      <td>c49c17e2-4640-11e5-b738-42010af074fc</td>\n",
       "      <td>http://t.co/XSMIHcfGv4</td>\n",
       "      <td>twitter</td>\n",
       "      <td>NoError</td>\n",
       "      <td></td>\n",
       "      <td>https://www.cdc.gov/pcd/issues/2014/14_0026.htm</td>\n",
       "    </tr>\n",
       "    <tr>\n",
       "      <th>6</th>\n",
       "      <td>78c228d8-4a38-11e5-8389-42010af074fc</td>\n",
       "      <td>http://t.co/R94ngZTjmn</td>\n",
       "      <td>twitter</td>\n",
       "      <td>HTTPError</td>\n",
       "      <td>302</td>\n",
       "      <td>http://t.co/R94ngZTjmn</td>\n",
       "    </tr>\n",
       "    <tr>\n",
       "      <th>7</th>\n",
       "      <td>e95f4f5c-4656-11e5-8e33-42010af074fc</td>\n",
       "      <td>http://bit.ly/bFv1mN</td>\n",
       "      <td>twitter</td>\n",
       "      <td>NoError</td>\n",
       "      <td></td>\n",
       "      <td>https://www.sciencedaily.com/releases/2010/03/...</td>\n",
       "    </tr>\n",
       "    <tr>\n",
       "      <th>8</th>\n",
       "      <td>d9c3bfd8-4656-11e5-8e33-42010af074fc</td>\n",
       "      <td>http://bit.ly/9wIiYL</td>\n",
       "      <td>twitter</td>\n",
       "      <td>NoError</td>\n",
       "      <td></td>\n",
       "      <td>http://www.bakeryandsnacks.com/Commodities/Sur...</td>\n",
       "    </tr>\n",
       "    <tr>\n",
       "      <th>9</th>\n",
       "      <td>90ad6bd6-472e-11e5-b1cc-42010af074fc</td>\n",
       "      <td>http://dotearth.blogs.nytimes.com/2012/09/20/t...</td>\n",
       "      <td>web</td>\n",
       "      <td>HTTPError</td>\n",
       "      <td>302</td>\n",
       "      <td>http://dotearth.blogs.nytimes.com/2012/09/20/t...</td>\n",
       "    </tr>\n",
       "    <tr>\n",
       "      <th>10</th>\n",
       "      <td>db8f6e02-4656-11e5-8e33-42010af074fc</td>\n",
       "      <td>http://t.co/JkJB6AEcFH</td>\n",
       "      <td>twitter</td>\n",
       "      <td>NoError</td>\n",
       "      <td></td>\n",
       "      <td>https://www.sciencedaily.com/releases/2013/03/...</td>\n",
       "    </tr>\n",
       "  </tbody>\n",
       "</table>\n",
       "</div>"
      ],
      "text/plain": [
       "                                      id                                                url doc_type      error errorDesc                                        resolvedURL\n",
       "0   ff36bee6-530d-11e5-b5bc-42010af0793b                             http://t.co/jLpMnMaQWY  twitter    NoError            http://www.greenmedinfo.com/blog/research-reve...\n",
       "1   cc0ab8f8-4640-11e5-b738-42010af074fc                             http://t.co/PZRT2aWryd  twitter  HTTPError       404                             http://t.co/PZRT2aWryd\n",
       "2   d9c40736-4656-11e5-8e33-42010af074fc                               http://bit.ly/9OvIjO  twitter    NoError            https://www.sciencedaily.com/releases/2010/06/...\n",
       "3   d9c3ceba-4656-11e5-8e33-42010af074fc                              http://bit.ly/bRJn6h.  twitter    NoError            http://www.dairyreporter.com/R-D/Probiotics-ma...\n",
       "4   df300a4e-4656-11e5-8e33-42010af074fc                                http://t.co/ytd74rP  twitter    NoError            http://www.beveragedaily.com/Markets/New-Kraft...\n",
       "5   c49c17e2-4640-11e5-b738-42010af074fc                             http://t.co/XSMIHcfGv4  twitter    NoError              https://www.cdc.gov/pcd/issues/2014/14_0026.htm\n",
       "6   78c228d8-4a38-11e5-8389-42010af074fc                             http://t.co/R94ngZTjmn  twitter  HTTPError       302                             http://t.co/R94ngZTjmn\n",
       "7   e95f4f5c-4656-11e5-8e33-42010af074fc                               http://bit.ly/bFv1mN  twitter    NoError            https://www.sciencedaily.com/releases/2010/03/...\n",
       "8   d9c3bfd8-4656-11e5-8e33-42010af074fc                               http://bit.ly/9wIiYL  twitter    NoError            http://www.bakeryandsnacks.com/Commodities/Sur...\n",
       "9   90ad6bd6-472e-11e5-b1cc-42010af074fc  http://dotearth.blogs.nytimes.com/2012/09/20/t...      web  HTTPError       302  http://dotearth.blogs.nytimes.com/2012/09/20/t...\n",
       "10  db8f6e02-4656-11e5-8e33-42010af074fc                             http://t.co/JkJB6AEcFH  twitter    NoError            https://www.sciencedaily.com/releases/2013/03/..."
      ]
     },
     "execution_count": 65,
     "metadata": {},
     "output_type": "execute_result"
    }
   ],
   "source": [
    "def resolveURLs(documents):\n",
    "\n",
    "    documents = documents.copy(deep=True)\n",
    "    documents = flattenLinks(documents)\n",
    "\n",
    "    def resolve(url):\n",
    "        resolved = {'resolvedURL':'', 'error':'', 'errorDesc':''}\n",
    "        \n",
    "        try:\n",
    "            resolvedURL = urlopen(url,timeout=5).geturl()\n",
    "\n",
    "            if(urlparse(resolvedURL).netloc.endswith('.ly')):\n",
    "                resolved = {'resolvedURL':resolvedURL, 'error':'NoRedirectError', 'errorDesc':''}\n",
    "            else:\n",
    "                resolved = {'resolvedURL':resolvedURL, 'error':'NoError', 'errorDesc':''}\n",
    "                \n",
    "        except HTTPError as e:\n",
    "            resolved = {'resolvedURL':url, 'error':'HTTPError', 'errorDesc':str(e.code)}\n",
    "        except URLError as e:\n",
    "            resolved = {'resolvedURL':url, 'error':'URLError', 'errorDesc':str(e)}\n",
    "        except ConnectionResetError as e:\n",
    "            resolved = {'resolvedURL':url, 'error':'ConnectionResetError', 'errorDesc':str(e)}\n",
    "        except CertificateError as e:\n",
    "            resolved = {'resolvedURL':url, 'error':'CertificateError', 'errorDesc':str(e)}\n",
    "        except SocketTimeoutError as e:\n",
    "            resolved = {'resolvedURL':url, 'error':'SocketTimeoutError', 'errorDesc':str(e)}\n",
    "        except:\n",
    "            print('!!!!NO CATCH!!!!', sys.exc_info())\n",
    "\n",
    "        return pd.Series(resolved)\n",
    "    \n",
    "    documents = pd.concat((documents, documents['url'].apply(lambda x: resolve(x))), axis=1)\n",
    "    return documents\n",
    "\n",
    "resolveURLs(documents)"
   ]
  },
  {
   "cell_type": "code",
   "execution_count": 84,
   "metadata": {
    "collapsed": false
   },
   "outputs": [
    {
     "data": {
      "image/png": "[encoded data removed]",
      "text/plain": [
       "<matplotlib.figure.Figure at 0x119076710>"
      ]
     },
     "metadata": {},
     "output_type": "display_data"
    },
    {
     "data": {
      "image/png": "[encoded data removed]",
      "text/plain": [
       "<matplotlib.figure.Figure at 0x119359a20>"
      ]
     },
     "metadata": {},
     "output_type": "display_data"
    },
    {
     "data": {
      "image/png": "[encoded data removed]",
      "text/plain": [
       "<matplotlib.figure.Figure at 0x118708908>"
      ]
     },
     "metadata": {},
     "output_type": "display_data"
    }
   ],
   "source": [
    "def plotLinkErrors(documents):\n",
    "    documents = documents.copy(deep=True)\n",
    "    documents = resolveURLs(documents)\n",
    "\n",
    "    documents = documents[['doc_type','error']]\n",
    "    \n",
    "    twitter = documents[documents['doc_type']=='twitter']\n",
    "    numOfLinks = twitter.shape[0]\n",
    "    ax = twitter.groupby('error').agg('count').apply(lambda x: x/numOfLinks).plot.pie(y='doc_type', autopct='%.f', title='Link Errors on Twitter')\n",
    "    ax.set_ylabel('')\n",
    "    web = documents[documents['doc_type']=='web']\n",
    "    numOfLinks = web.shape[0]\n",
    "    ax = web.groupby('error').agg('count').apply(lambda x: x/numOfLinks).plot.pie(y='doc_type', autopct='%.f', title='Link Errors on Web')\n",
    "    ax.set_ylabel('')\n",
    "    numOfLinks = documents.shape[0]\n",
    "    ax = documents.groupby('error').agg('count').apply(lambda x: x/numOfLinks).plot.pie(y='doc_type', autopct='%.f', title='Link Errors on Both')\n",
    "    ax.set_ylabel('')\n",
    "    \n",
    "plotLinkErrors(documents)"
   ]
  },
  {
   "cell_type": "code",
   "execution_count": null,
   "metadata": {
    "collapsed": true
   },
   "outputs": [],
   "source": []
  }
 ],
 "metadata": {
  "anaconda-cloud": {},
  "kernelspec": {
   "display_name": "Python [Root]",
   "language": "python",
   "name": "Python [Root]"
  },
  "language_info": {
   "codemirror_mode": {
    "name": "ipython",
    "version": 3
   },
   "file_extension": ".py",
   "mimetype": "text/x-python",
   "name": "python",
   "nbconvert_exporter": "python",
   "pygments_lexer": "ipython3",
   "version": "3.5.2"
  }
 },
 "nbformat": 4,
 "nbformat_minor": 0
}
