{
 "cells": [
  {
   "cell_type": "code",
   "execution_count": 4,
   "metadata": {
    "collapsed": false
   },
   "outputs": [
    {
     "name": "stdout",
     "output_type": "stream",
     "text": [
      "The autoreload extension is already loaded. To reload it, use:\n",
      "  %reload_ext autoreload\n"
     ]
    }
   ],
   "source": [
    "%matplotlib inline\n",
    "import numpy as np\n",
    "import pandas as pd\n",
    "import matplotlib.pyplot as plt\n",
    "%load_ext autoreload\n",
    "%autoreload 2\n",
    "\n",
    "import os.path"
   ]
  },
  {
   "cell_type": "code",
   "execution_count": 5,
   "metadata": {
    "collapsed": true
   },
   "outputs": [],
   "source": [
    "from settings import *\n",
    "from utils import *"
   ]
  },
  {
   "cell_type": "code",
   "execution_count": 3,
   "metadata": {
    "collapsed": false
   },
   "outputs": [
    {
     "name": "stdout",
     "output_type": "stream",
     "text": [
      "\n",
      "    Back in 2007, a presidential candidate named Barack Obama declared that foods that include ingredients from genetically modified crops should be labeled. As president, he vowed, he would strive to \"let folks know when their food is genetically modified, because Americans have a right to know what they're buying.\" (Check out the video from Food Democracy Now above).\n",
      "    The ambitious senator from Illinois was no doubt sensing a popular cause. According to a 2010 poll (PDF) conducted by Reuters Thompson, more than 90 percent of Americans thought GMO-containing foods should be labeled.\n",
      "    As president, Obama has been silent on the issue, as has his FDA, which oversees food labeling. Meanwhile, Obama's USDA—which oversees farming practices—has been greenlighting GMO crops left and right, even while acknowledging that they generate herbicide-resistant weeds and other troubles.\n",
      "    But a vigorous grassroots pro-labeling movement has been gaining steam for a while, and this week, a coalition of sustainable-food NGOs and organic businesses has launched a campaign to \"flood the FDA with comments so they know that the public wants labeling of GE [genetically engineered] foods.\"\n",
      "    Along with the public campaign, the group has also submitted a formal petition (PDF) to the FDA, which in the course of demanding labeling also lays out a blistering critique of the way agency regulates GMOs—which is to say, hardly at all.\n",
      "    The petition acknowledges that the FDA can't require labeling of GMOs solely based on public opinion polls or campaign speeches. In order to require labeling, the agency would have to acknowledge that GMO and non-GMO foods are substantially different. That would mark a sea change in policy. In its 1992 statement on the topic, which remains official policy, the FDA declared:\n",
      "    The agency is not aware of any information showing that foods derived by these new methods differ from other foods in any meaningful or uniform way, or that, as a class, foods developed by the new techniques present any different or greater safety concern than foods developed by traditional plant breeding.\n",
      "    Since genetically modified ingredients are essentially the same as conventional ones, the FDA continued, the presence of GMOs in foodstuffs does not constitute \"material information\" within its mandate and thus is not subject to labeling. In practice, the policy means that new GMO products, based solely on industry assurances, will continue to enter the market rubber-stamped as \"safe\" by the FDA.\n",
      "    But as I made clear in a post last week, the FDA came to its conclusions without considering independent research that has turned up evidence of chronic health affects from consuming GMOs. And, as Ken Roseboro of the Non-GMO and Organic Report shows (documents here), the agency rolled out its hands-off policy over the objections of several staff scientists.\n",
      "    So the movement to require labeling, if successful, offers two benefits for the price of one: It would allow people to exercise, in the words of the former senator from Illinois, their \"right to know what they're buying.\" And it would force the FDA to face, at long last, the fact that GMOs are different, and need to be regulated as such.\n",
      "    Tom Philpott is the food and agriculture blogger for Mother Jones. For more of his stories, click here. To follow him on Twitter, click here.    \n",
      "    \n",
      "-----\n",
      "Back in 2007, a presidential candidate named Barack Obama declared that foods that include ingredients from genetically modified crops should be labeled.\n",
      "The petition acknowledges that the FDA can't require labeling of GMOs solely based on public opinion polls or campaign speeches.\n",
      "In order to require labeling, the agency would have to acknowledge that GMO and non-GMO foods are substantially different.\n",
      "So the movement to require labeling, if successful, offers two benefits for the price of one: It would allow people to exercise, in the words of the former senator from Illinois, their \"right to know what they're buying.\" And it would force the FDA to face, at long last, the fact that GMOs are different, and need to be regulated as such.\n"
     ]
    }
   ],
   "source": [
    "def summarizeDocuments(limitDocuments=10):\n",
    "    from gensim.summarization.summarizer import summarize    \n",
    "    \n",
    "    #pd.options.display.max_colwidth = 10000\n",
    "    #documents = readFromDB(limitDocuments)\n",
    "    #documents[documents['doc_type']=='web']['body'].apply(lambda x: summarize(x, ratio=0.1))\n",
    "    #return documents\n",
    "    \n",
    "    article = \"\"\"\n",
    "    Back in 2007, a presidential candidate named Barack Obama declared that foods that include ingredients from genetically modified crops should be labeled. As president, he vowed, he would strive to \"let folks know when their food is genetically modified, because Americans have a right to know what they're buying.\" (Check out the video from Food Democracy Now above).\n",
    "    The ambitious senator from Illinois was no doubt sensing a popular cause. According to a 2010 poll (PDF) conducted by Reuters Thompson, more than 90 percent of Americans thought GMO-containing foods should be labeled.\n",
    "    As president, Obama has been silent on the issue, as has his FDA, which oversees food labeling. Meanwhile, Obama's USDA—which oversees farming practices—has been greenlighting GMO crops left and right, even while acknowledging that they generate herbicide-resistant weeds and other troubles.\n",
    "    But a vigorous grassroots pro-labeling movement has been gaining steam for a while, and this week, a coalition of sustainable-food NGOs and organic businesses has launched a campaign to \"flood the FDA with comments so they know that the public wants labeling of GE [genetically engineered] foods.\"\n",
    "    Along with the public campaign, the group has also submitted a formal petition (PDF) to the FDA, which in the course of demanding labeling also lays out a blistering critique of the way agency regulates GMOs—which is to say, hardly at all.\n",
    "    The petition acknowledges that the FDA can't require labeling of GMOs solely based on public opinion polls or campaign speeches. In order to require labeling, the agency would have to acknowledge that GMO and non-GMO foods are substantially different. That would mark a sea change in policy. In its 1992 statement on the topic, which remains official policy, the FDA declared:\n",
    "    The agency is not aware of any information showing that foods derived by these new methods differ from other foods in any meaningful or uniform way, or that, as a class, foods developed by the new techniques present any different or greater safety concern than foods developed by traditional plant breeding.\n",
    "    Since genetically modified ingredients are essentially the same as conventional ones, the FDA continued, the presence of GMOs in foodstuffs does not constitute \"material information\" within its mandate and thus is not subject to labeling. In practice, the policy means that new GMO products, based solely on industry assurances, will continue to enter the market rubber-stamped as \"safe\" by the FDA.\n",
    "    But as I made clear in a post last week, the FDA came to its conclusions without considering independent research that has turned up evidence of chronic health affects from consuming GMOs. And, as Ken Roseboro of the Non-GMO and Organic Report shows (documents here), the agency rolled out its hands-off policy over the objections of several staff scientists.\n",
    "    So the movement to require labeling, if successful, offers two benefits for the price of one: It would allow people to exercise, in the words of the former senator from Illinois, their \"right to know what they're buying.\" And it would force the FDA to face, at long last, the fact that GMOs are different, and need to be regulated as such.\n",
    "    Tom Philpott is the food and agriculture blogger for Mother Jones. For more of his stories, click here. To follow him on Twitter, click here.    \n",
    "    \"\"\"\n",
    "    title = \"Will Barack Obama break his GM food labelling promise?\"\n",
    "    summary = summarize(article)\n",
    "    print (article)\n",
    "    print(\"-----\")\n",
    "    print (summary)\n",
    "    \n",
    "summarizeDocuments(1)"
   ]
  },
  {
   "cell_type": "code",
   "execution_count": null,
   "metadata": {
    "collapsed": true
   },
   "outputs": [],
   "source": []
  }
 ],
 "metadata": {
  "anaconda-cloud": {},
  "kernelspec": {
   "display_name": "Python [Root]",
   "language": "python",
   "name": "Python [Root]"
  },
  "language_info": {
   "codemirror_mode": {
    "name": "ipython",
    "version": 3
   },
   "file_extension": ".py",
   "mimetype": "text/x-python",
   "name": "python",
   "nbconvert_exporter": "python",
   "pygments_lexer": "ipython3",
   "version": "3.5.2"
  }
 },
 "nbformat": 4,
 "nbformat_minor": 0
}
